{
 "cells": [
  {
   "cell_type": "code",
   "execution_count": 1,
   "metadata": {},
   "outputs": [
    {
     "name": "stderr",
     "output_type": "stream",
     "text": [
      "Using TensorFlow backend.\n"
     ]
    }
   ],
   "source": [
    "# Importing all necessary libraries\n",
    "import keras\n",
    "from keras.preprocessing.image import ImageDataGenerator \n",
    "from keras.models import Sequential \n",
    "from keras.layers import Conv2D, MaxPooling2D, MaxPool2D \n",
    "from keras.layers import Activation, Dropout, Flatten, Dense \n",
    "from keras.layers import BatchNormalization,Flatten\n",
    "from keras.layers import ZeroPadding2D\n",
    "from keras import backend as K \n"
   ]
  },
  {
   "cell_type": "code",
   "execution_count": 2,
   "metadata": {},
   "outputs": [],
   "source": [
    "train_gen=ImageDataGenerator(rescale=1./255,\n",
    "                                   featurewise_center=True,\n",
    "                                   samplewise_center=True,\n",
    "                                   featurewise_std_normalization=True,\n",
    "                                   zca_whitening=False,zca_epsilon=1e-06,\n",
    "                                   rotation_range=40, width_shift_range=0.0,\n",
    "                                   height_shift_range=(0.0), brightness_range=(0.2,0.2),\n",
    "                                   shear_range=0.2, zoom_range=0.2,\n",
    "                                   channel_shift_range=0.0,data_format='channels_last', fill_mode='nearest')"
   ]
  },
  {
   "cell_type": "code",
   "execution_count": 3,
   "metadata": {},
   "outputs": [],
   "source": [
    "test_gen=ImageDataGenerator(rescale=1./255,\n",
    "                                   featurewise_center=True,\n",
    "                                   samplewise_center=True,\n",
    "                                   featurewise_std_normalization=True,\n",
    "                                   zca_whitening=False,zca_epsilon=1e-06,\n",
    "                                   rotation_range=40, width_shift_range=0.0,\n",
    "                                   height_shift_range=(0.0), brightness_range=(0.2,0.2),\n",
    "                                   shear_range=0.2, zoom_range=0.2,\n",
    "                                   channel_shift_range=0.0,data_format='channels_last', fill_mode='nearest')"
   ]
  },
  {
   "cell_type": "code",
   "execution_count": 4,
   "metadata": {},
   "outputs": [],
   "source": [
    "val_gen=ImageDataGenerator(rescale=1./255,\n",
    "                                   featurewise_center=True,\n",
    "                                   samplewise_center=True,\n",
    "                                   featurewise_std_normalization=True,\n",
    "                                   zca_whitening=False,zca_epsilon=1e-06,\n",
    "                                   rotation_range=40, width_shift_range=0.0,\n",
    "                                   height_shift_range=(0.0), brightness_range=(0.2,0.2),\n",
    "                                   shear_range=0.2, zoom_range=0.2,\n",
    "                                   channel_shift_range=0.0,data_format='channels_last', fill_mode='nearest')"
   ]
  },
  {
   "cell_type": "code",
   "execution_count": 5,
   "metadata": {},
   "outputs": [
    {
     "name": "stdout",
     "output_type": "stream",
     "text": [
      "Found 13925 images belonging to 2 classes.\n"
     ]
    }
   ],
   "source": [
    "data_train = train_gen.flow_from_directory(r\"C:\\Users\\THARUN\\Desktop\\cell\\Train\\\\\",\n",
    "                                           target_size = (32, 32),\n",
    "                                           classes = ['Infected','Un-infected'],\n",
    "                                           class_mode = 'categorical',\n",
    "                                           batch_size = 64,\n",
    "                                           seed = 1)\n"
   ]
  },
  {
   "cell_type": "code",
   "execution_count": 6,
   "metadata": {},
   "outputs": [
    {
     "name": "stdout",
     "output_type": "stream",
     "text": [
      "Found 1726 images belonging to 2 classes.\n"
     ]
    }
   ],
   "source": [
    "data_test= train_gen.flow_from_directory(r\"C:\\Users\\THARUN\\Desktop\\cell\\Test\",\n",
    "                                           target_size = (32, 32),\n",
    "                                           classes = ['Infected','Un-infected'],\n",
    "                                           class_mode = 'categorical',\n",
    "                                           batch_size = 64,\n",
    "                                           seed = 1)\n"
   ]
  },
  {
   "cell_type": "code",
   "execution_count": 7,
   "metadata": {},
   "outputs": [
    {
     "name": "stdout",
     "output_type": "stream",
     "text": [
      "Found 13925 images belonging to 2 classes.\n"
     ]
    }
   ],
   "source": [
    "data_val= train_gen.flow_from_directory(r\"C:\\Users\\THARUN\\Desktop\\cell\\Validation\",\n",
    "                                           target_size = (32, 32),\n",
    "                                           classes = ['Infected','Un-infected'],\n",
    "                                           class_mode = 'categorical',\n",
    "                                           batch_size = 64,\n",
    "                                           seed = 1)\n"
   ]
  },
  {
   "cell_type": "code",
   "execution_count": null,
   "metadata": {},
   "outputs": [],
   "source": [
    "\n"
   ]
  },
  {
   "cell_type": "code",
   "execution_count": 18,
   "metadata": {},
   "outputs": [],
   "source": [
    "model=Sequential()"
   ]
  },
  {
   "cell_type": "code",
   "execution_count": 19,
   "metadata": {},
   "outputs": [
    {
     "name": "stdout",
     "output_type": "stream",
     "text": [
      "Model: \"sequential_2\"\n",
      "_________________________________________________________________\n",
      "Layer (type)                 Output Shape              Param #   \n",
      "=================================================================\n",
      "conv2d_9 (Conv2D)            (None, 32, 32, 32)        896       \n",
      "_________________________________________________________________\n",
      "max_pooling2d_6 (MaxPooling2 (None, 32, 32, 32)        0         \n",
      "_________________________________________________________________\n",
      "batch_normalization_9 (Batch (None, 32, 32, 32)        128       \n",
      "_________________________________________________________________\n",
      "dropout_9 (Dropout)          (None, 32, 32, 32)        0         \n",
      "_________________________________________________________________\n",
      "zero_padding2d_9 (ZeroPaddin (None, 36, 36, 32)        0         \n",
      "_________________________________________________________________\n",
      "conv2d_10 (Conv2D)           (None, 36, 36, 5)         1445      \n",
      "_________________________________________________________________\n",
      "max_pooling2d_7 (MaxPooling2 (None, 36, 36, 5)         0         \n",
      "_________________________________________________________________\n",
      "batch_normalization_10 (Batc (None, 36, 36, 5)         20        \n",
      "_________________________________________________________________\n",
      "dropout_10 (Dropout)         (None, 36, 36, 5)         0         \n",
      "_________________________________________________________________\n",
      "zero_padding2d_10 (ZeroPaddi (None, 40, 40, 5)         0         \n",
      "_________________________________________________________________\n",
      "conv2d_11 (Conv2D)           (None, 40, 40, 3)         63        \n",
      "_________________________________________________________________\n",
      "max_pooling2d_8 (MaxPooling2 (None, 40, 40, 3)         0         \n",
      "_________________________________________________________________\n",
      "batch_normalization_11 (Batc (None, 40, 40, 3)         12        \n",
      "_________________________________________________________________\n",
      "dropout_11 (Dropout)         (None, 40, 40, 3)         0         \n",
      "_________________________________________________________________\n",
      "zero_padding2d_11 (ZeroPaddi (None, 44, 44, 3)         0         \n",
      "_________________________________________________________________\n",
      "conv2d_12 (Conv2D)           (None, 44, 44, 3)         39        \n",
      "_________________________________________________________________\n",
      "max_pooling2d_9 (MaxPooling2 (None, 44, 44, 3)         0         \n",
      "_________________________________________________________________\n",
      "batch_normalization_12 (Batc (None, 44, 44, 3)         12        \n",
      "_________________________________________________________________\n",
      "dropout_12 (Dropout)         (None, 44, 44, 3)         0         \n",
      "_________________________________________________________________\n",
      "zero_padding2d_12 (ZeroPaddi (None, 48, 48, 3)         0         \n",
      "_________________________________________________________________\n",
      "conv2d_13 (Conv2D)           (None, 48, 48, 3)         39        \n",
      "_________________________________________________________________\n",
      "max_pooling2d_10 (MaxPooling (None, 48, 48, 3)         0         \n",
      "_________________________________________________________________\n",
      "batch_normalization_13 (Batc (None, 48, 48, 3)         12        \n",
      "_________________________________________________________________\n",
      "dropout_13 (Dropout)         (None, 48, 48, 3)         0         \n",
      "_________________________________________________________________\n",
      "flatten_2 (Flatten)          (None, 6912)              0         \n",
      "_________________________________________________________________\n",
      "dense_5 (Dense)              (None, 128)               884864    \n",
      "_________________________________________________________________\n",
      "batch_normalization_14 (Batc (None, 128)               512       \n",
      "_________________________________________________________________\n",
      "dropout_14 (Dropout)         (None, 128)               0         \n",
      "_________________________________________________________________\n",
      "dense_6 (Dense)              (None, 64)                8256      \n",
      "_________________________________________________________________\n",
      "batch_normalization_15 (Batc (None, 64)                256       \n",
      "_________________________________________________________________\n",
      "dropout_15 (Dropout)         (None, 64)                0         \n",
      "_________________________________________________________________\n",
      "dense_7 (Dense)              (None, 32)                2080      \n",
      "_________________________________________________________________\n",
      "batch_normalization_16 (Batc (None, 32)                128       \n",
      "_________________________________________________________________\n",
      "dropout_16 (Dropout)         (None, 32)                0         \n",
      "_________________________________________________________________\n",
      "dense_8 (Dense)              (None, 2)                 66        \n",
      "=================================================================\n",
      "Total params: 898,828\n",
      "Trainable params: 898,288\n",
      "Non-trainable params: 540\n",
      "_________________________________________________________________\n",
      "Epoch 1/30\n",
      "100/100 [==============================] - 197s 2s/step - loss: 0.6759 - accuracy: 0.5674 - val_loss: 0.1211 - val_accuracy: 0.9911\n",
      "Epoch 2/30\n",
      "100/100 [==============================] - 164s 2s/step - loss: 0.3640 - accuracy: 0.7198 - val_loss: 0.1604 - val_accuracy: 0.9896\n",
      "Epoch 3/30\n",
      "100/100 [==============================] - 113s 1s/step - loss: 0.2485 - accuracy: 0.8234 - val_loss: 0.0109 - val_accuracy: 0.9891\n",
      "Epoch 4/30\n",
      "100/100 [==============================] - 111s 1s/step - loss: 0.1799 - accuracy: 0.8767 - val_loss: 0.7034 - val_accuracy: 0.0099\n",
      "Epoch 5/30\n",
      "100/100 [==============================] - 110s 1s/step - loss: 0.1369 - accuracy: 0.9275 - val_loss: 0.6988 - val_accuracy: 0.0104\n",
      "Epoch 6/30\n",
      "100/100 [==============================] - 108s 1s/step - loss: 0.1140 - accuracy: 0.9402 - val_loss: 0.6963 - val_accuracy: 0.0130\n",
      "Epoch 7/30\n",
      "100/100 [==============================] - 108s 1s/step - loss: 0.1122 - accuracy: 0.9435 - val_loss: 0.6660 - val_accuracy: 0.0536\n",
      "Epoch 8/30\n",
      "100/100 [==============================] - 91s 911ms/step - loss: 0.1026 - accuracy: 0.9413 - val_loss: 0.5407 - val_accuracy: 0.2837\n",
      "Epoch 9/30\n",
      "100/100 [==============================] - 91s 907ms/step - loss: 0.0924 - accuracy: 0.9551 - val_loss: 0.4531 - val_accuracy: 0.3729\n",
      "Epoch 10/30\n",
      "100/100 [==============================] - 91s 910ms/step - loss: 0.0820 - accuracy: 0.9648 - val_loss: 0.2256 - val_accuracy: 0.6385\n",
      "Epoch 11/30\n",
      "100/100 [==============================] - 92s 916ms/step - loss: 0.1115 - accuracy: 0.9321 - val_loss: 0.0152 - val_accuracy: 0.9901\n",
      "Epoch 12/30\n",
      "100/100 [==============================] - 92s 922ms/step - loss: 0.1044 - accuracy: 0.9484 - val_loss: 0.0969 - val_accuracy: 0.9865\n",
      "Epoch 13/30\n",
      "100/100 [==============================] - 94s 942ms/step - loss: 0.0828 - accuracy: 0.9655 - val_loss: 0.2191 - val_accuracy: 0.9937\n",
      "Epoch 14/30\n",
      "100/100 [==============================] - 92s 925ms/step - loss: 0.0926 - accuracy: 0.9702 - val_loss: 0.0071 - val_accuracy: 0.9880\n",
      "Epoch 15/30\n",
      "100/100 [==============================] - 92s 924ms/step - loss: 0.0687 - accuracy: 0.9853 - val_loss: 0.0045 - val_accuracy: 0.9894\n",
      "Epoch 16/30\n",
      "100/100 [==============================] - 92s 923ms/step - loss: 0.0642 - accuracy: 0.9875 - val_loss: 0.0018 - val_accuracy: 0.9859\n",
      "Epoch 17/30\n",
      "100/100 [==============================] - 91s 912ms/step - loss: 0.0654 - accuracy: 0.9874 - val_loss: 0.1426 - val_accuracy: 0.9911\n",
      "Epoch 18/30\n",
      "100/100 [==============================] - 91s 908ms/step - loss: 0.0734 - accuracy: 0.9848 - val_loss: 0.0018 - val_accuracy: 0.9927\n",
      "Epoch 19/30\n",
      "100/100 [==============================] - 92s 921ms/step - loss: 0.0597 - accuracy: 0.9900 - val_loss: 0.0024 - val_accuracy: 0.9885\n",
      "Epoch 20/30\n",
      "100/100 [==============================] - 90s 905ms/step - loss: 0.0632 - accuracy: 0.9887 - val_loss: 0.0037 - val_accuracy: 0.9901\n",
      "Epoch 21/30\n",
      "100/100 [==============================] - 91s 909ms/step - loss: 0.0636 - accuracy: 0.9891 - val_loss: 0.1469 - val_accuracy: 0.9870\n",
      "Epoch 22/30\n",
      "100/100 [==============================] - 91s 905ms/step - loss: 0.0626 - accuracy: 0.9895 - val_loss: 0.1352 - val_accuracy: 0.9894\n",
      "Epoch 23/30\n"
     ]
    },
    {
     "name": "stdout",
     "output_type": "stream",
     "text": [
      "100/100 [==============================] - 91s 907ms/step - loss: 0.0647 - accuracy: 0.9889 - val_loss: 0.0814 - val_accuracy: 0.9911\n",
      "Epoch 24/30\n",
      "100/100 [==============================] - 129s 1s/step - loss: 0.0629 - accuracy: 0.9881 - val_loss: 0.1209 - val_accuracy: 0.9906\n",
      "Epoch 25/30\n",
      "100/100 [==============================] - 126s 1s/step - loss: 0.0571 - accuracy: 0.9901 - val_loss: 0.3014 - val_accuracy: 0.9901\n",
      "Epoch 26/30\n",
      "100/100 [==============================] - 126s 1s/step - loss: 0.0648 - accuracy: 0.9894 - val_loss: 0.0036 - val_accuracy: 0.9901\n",
      "Epoch 27/30\n",
      "100/100 [==============================] - 127s 1s/step - loss: 0.0666 - accuracy: 0.9872 - val_loss: 0.0019 - val_accuracy: 0.9880\n",
      "Epoch 28/30\n",
      "100/100 [==============================] - 128s 1s/step - loss: 0.0610 - accuracy: 0.9873 - val_loss: 0.2224 - val_accuracy: 0.9896\n",
      "Epoch 29/30\n",
      "100/100 [==============================] - 126s 1s/step - loss: 0.0647 - accuracy: 0.9895 - val_loss: 0.0025 - val_accuracy: 0.9885\n",
      "Epoch 30/30\n",
      "100/100 [==============================] - 133s 1s/step - loss: 0.0553 - accuracy: 0.9900 - val_loss: 0.4262 - val_accuracy: 0.9900\n"
     ]
    }
   ],
   "source": [
    "\n",
    "model.add(Conv2D(32, kernel_size=(3, 3), strides=(1, 1),input_shape= (32, 32, 3), padding='SAME',\n",
    "                 activation =  'relu'))\n",
    "model.add(MaxPool2D(pool_size=(2, 2), strides=(1, 1), padding = 'SAME'))\n",
    "model.add(BatchNormalization(axis = -1))\n",
    "model.add(Dropout(0.3))\n",
    "\n",
    "#CONV2\n",
    "model.add(ZeroPadding2D(padding = (2, 2)))\n",
    "model.add(Conv2D(5, kernel_size=(3, 3), strides=(1, 1), padding='SAME',\n",
    "                 activation =  'relu'))\n",
    "model.add(MaxPool2D(pool_size=(2, 2), strides=(1, 1), padding = 'SAME'))\n",
    "model.add(BatchNormalization(axis = -1))\n",
    "model.add(Dropout(0.3))\n",
    "\n",
    "#CONV3\n",
    "model.add(ZeroPadding2D(padding = (2, 2)))\n",
    "model.add(Conv2D(3, kernel_size=(2, 2), strides=(1, 1), padding='SAME',\n",
    "                 activation =  'relu'))\n",
    "model.add(MaxPool2D(pool_size=(2, 2), strides=(1, 1), padding = 'SAME'))\n",
    "model.add(BatchNormalization(axis = -1))\n",
    "model.add(Dropout(0.3))\n",
    "\n",
    "#CONV4\n",
    "model.add(ZeroPadding2D(padding = (2, 2)))\n",
    "model.add(Conv2D(3, kernel_size=(2, 2), strides=(1, 1), padding='SAME',\n",
    "                 activation =  'relu'))\n",
    "model.add(MaxPool2D(pool_size=(2, 2), strides=(1, 1), padding = 'SAME'))\n",
    "model.add(BatchNormalization(axis = -1))\n",
    "model.add(Dropout(0.2))\n",
    "\n",
    "#CONV5\n",
    "model.add(ZeroPadding2D(padding = (2, 2)))\n",
    "model.add(Conv2D(3, kernel_size=(2, 2), strides=(1, 1), padding='SAME',\n",
    "                 activation =  'relu'))\n",
    "model.add(MaxPool2D(pool_size=(2, 2), strides=(1, 1), padding = 'SAME'))\n",
    "model.add(BatchNormalization(axis = -1))\n",
    "model.add(Dropout(0.5))\n",
    "\n",
    "#FLATTEN\n",
    "model.add(Flatten())\n",
    "\n",
    "#Dense1\n",
    "model.add(Dense(128, activation='relu'))\n",
    "model.add(BatchNormalization(axis = -1))\n",
    "model.add(Dropout(0.2))\n",
    "\n",
    "#Dense2\n",
    "model.add(Dense(64, activation='relu'))\n",
    "model.add(BatchNormalization(axis = -1))\n",
    "model.add(Dropout(0.3))\n",
    "\n",
    "#Dense3\n",
    "model.add(Dense(32, activation='relu'))\n",
    "model.add(BatchNormalization(axis = -1))\n",
    "model.add(Dropout(0.5))\n",
    "\n",
    "#Dense4\n",
    "model.add(Dense(2, activation='sigmoid'))\n",
    "\n",
    "#model summary\n",
    "model.summary()\n",
    "\n",
    "#Optimizers\n",
    "#Ad = Adam(lr = 0.01)\n",
    "#Compile Model\n",
    "model.compile(optimizer = \"adam\",\n",
    "              loss = 'categorical_crossentropy',\n",
    "              metrics=['accuracy'])\n",
    "\n",
    "#Fitting Model\n",
    "history = model.fit_generator(data_train, steps_per_epoch=100,\n",
    "                    epochs=30, validation_data=data_val,\n",
    "                    validation_steps=30)\n"
   ]
  },
  {
   "cell_type": "code",
   "execution_count": 21,
   "metadata": {},
   "outputs": [
    {
     "name": "stdout",
     "output_type": "stream",
     "text": [
      "dict_keys(['val_loss', 'val_accuracy', 'loss', 'accuracy'])\n"
     ]
    },
    {
     "data": {
      "image/png": "[encoded data removed]",
      "text/plain": [
       "<Figure size 432x288 with 1 Axes>"
      ]
     },
     "metadata": {
      "needs_background": "light"
     },
     "output_type": "display_data"
    },
    {
     "data": {
      "image/png": "[encoded data removed]",
      "text/plain": [
       "<Figure size 432x288 with 1 Axes>"
      ]
     },
     "metadata": {
      "needs_background": "light"
     },
     "output_type": "display_data"
    },
    {
     "name": "stderr",
     "output_type": "stream",
     "text": [
      "C:\\Users\\THARUN\\Anaconda3\\lib\\site-packages\\keras_preprocessing\\image\\image_data_generator.py:716: UserWarning: This ImageDataGenerator specifies `featurewise_center`, but it hasn't been fit on any training data. Fit it first by calling `.fit(numpy_data)`.\n",
      "  warnings.warn('This ImageDataGenerator specifies '\n",
      "C:\\Users\\THARUN\\Anaconda3\\lib\\site-packages\\keras_preprocessing\\image\\image_data_generator.py:724: UserWarning: This ImageDataGenerator specifies `featurewise_std_normalization`, but it hasn't been fit on any training data. Fit it first by calling `.fit(numpy_data)`.\n",
      "  warnings.warn('This ImageDataGenerator specifies '\n"
     ]
    },
    {
     "name": "stdout",
     "output_type": "stream",
     "text": [
      "Accuracyloss:- 0.5971782207489014\n",
      "AccuracyScore 0.9169533848762512\n"
     ]
    }
   ],
   "source": [
    "import matplotlib.pyplot as plt\n",
    "print(history.history.keys())\n",
    "# summarize history for accuracy\n",
    "plt.plot(history.history['accuracy'])\n",
    "plt.plot(history.history['val_accuracy'])\n",
    "plt.title('model accuracy')\n",
    "plt.ylabel('accuracy')\n",
    "plt.xlabel('epoch')\n",
    "plt.legend(['train', 'test'], loc='upper left')\n",
    "plt.show()\n",
    "\n",
    "\n",
    "# summarize history for loss\n",
    "plt.plot(history.history['loss'])\n",
    "plt.plot(history.history['val_loss'])\n",
    "plt.title('model loss')\n",
    "plt.ylabel('loss')\n",
    "plt.xlabel('epoch')\n",
    "plt.legend(['train', 'test'], loc='upper left')\n",
    "plt.show()\n",
    "\n",
    "\n",
    "#Evaluating Model\n",
    "score  = model.evaluate_generator(data_test, \n",
    "                                  steps = 100)\n",
    "\n",
    "\n",
    "#printAccuracy\n",
    "print(\"Accuracyloss:-\", score[0])\n",
    "print(\"AccuracyScore\",score[1] )\n",
    "\n",
    "\n",
    "model.save(\"model.h5\")"
   ]
  },
  {
   "cell_type": "code",
   "execution_count": null,
   "metadata": {},
   "outputs": [],
   "source": []
  },
  {
   "cell_type": "code",
   "execution_count": null,
   "metadata": {},
   "outputs": [],
   "source": []
  },
  {
   "cell_type": "code",
   "execution_count": null,
   "metadata": {},
   "outputs": [],
   "source": []
  }
 ],
 "metadata": {
  "kernelspec": {
   "display_name": "Python 3",
   "language": "python",
   "name": "python3"
  },
  "language_info": {
   "codemirror_mode": {
    "name": "ipython",
    "version": 3
   },
   "file_extension": ".py",
   "mimetype": "text/x-python",
   "name": "python",
   "nbconvert_exporter": "python",
   "pygments_lexer": "ipython3",
   "version": "3.7.3"
  }
 },
 "nbformat": 4,
 "nbformat_minor": 2
}
